{
 "cells": [
  {
   "cell_type": "code",
   "execution_count": 2,
   "id": "109936d7-aa83-4bd5-bd12-1bea4789a370",
   "metadata": {},
   "outputs": [],
   "source": [
    "import cassiopeia as cass\n",
    "import os\n",
    "from dotenv import load_dotenv\n",
    "import pygsheets\n",
    "\n",
    "load_dotenv()\n",
    "gc = pygsheets.authorize(service_file=\"../client_secret.json\")\n",
    "sh = gc.open_by_key(\"\")\n",
    "wks = sh.worksheet('title', 'images')\n",
    "\n",
    "from cassiopeia import Champions, Summoner, Region, Patch, Items, SummonerSpells, Runes\n",
    "REGION = Region(\"NA\")"
   ]
  },
  {
   "cell_type": "markdown",
   "id": "6f3251f8-3596-41ef-a53c-bd2a61d77e15",
   "metadata": {},
   "source": [
    "### Update Champion Icons"
   ]
  },
  {
   "cell_type": "code",
   "execution_count": 3,
   "id": "171de285-0d6b-4324-a87a-5a1b643d4091",
   "metadata": {},
   "outputs": [
    {
     "name": "stdout",
     "output_type": "stream",
     "text": [
      "Making call: https://ddragon.leagueoflegends.com/realms/na.json\n",
      "Making call: https://ddragon.leagueoflegends.com/cdn/14.2.1/data/en_US/championFull.json\n"
     ]
    }
   ],
   "source": [
    "champion_cells = [['-', 'https://raw.communitydragon.org/latest/plugins/rcp-be-lol-game-data/global/default/v1/champion-icons/-1.png', '=IMAGE(B1)']]\n",
    "for idx, champion in enumerate(Champions(region=REGION)):\n",
    "    champion_cells.append([champion.name, champion.image.url, f'=IMAGE(B{idx + 2})'])\n",
    "\n",
    "wks.clear('A1', 'C')\n",
    "wks.update_values('A1:C',champion_cells)"
   ]
  },
  {
   "cell_type": "markdown",
   "id": "97d7c336-dd71-47bd-b99b-d2a8139f666c",
   "metadata": {},
   "source": [
    "### Update Item Icons"
   ]
  },
  {
   "cell_type": "code",
   "execution_count": 4,
   "id": "36c0fd1a-f0e2-4b40-97f7-29653e2970d0",
   "metadata": {},
   "outputs": [
    {
     "name": "stdout",
     "output_type": "stream",
     "text": [
      "Making call: https://ddragon.leagueoflegends.com/cdn/14.2.1/data/en_US/item.json\n"
     ]
    }
   ],
   "source": [
    "latest_items = Items(region=REGION)\n",
    "# old_items = Items(region=REGION, version=\"13.9.1\")\n",
    "\n",
    "# all_items = set(list(latest_items) + list(old_items))\n",
    "item_cells = [['-', '', '']]\n",
    "for idx, item in enumerate(latest_items):\n",
    "    item_cells.append([item.name, item.id, item.image.url, f'=IMAGE(F{idx + 2})'])\n",
    "\n",
    "wks.clear('D1', 'G')\n",
    "wks.update_values('D1:G', item_cells)"
   ]
  },
  {
   "cell_type": "markdown",
   "id": "777f7621-94c5-43f2-b2aa-d7e882d51bcf",
   "metadata": {},
   "source": [
    "### Update Summoner Spell Icons and Rune Icons"
   ]
  },
  {
   "cell_type": "code",
   "execution_count": 5,
   "id": "2a302283-f80f-4ea9-babe-57adbb7a1873",
   "metadata": {},
   "outputs": [
    {
     "name": "stdout",
     "output_type": "stream",
     "text": [
      "Making call: https://ddragon.leagueoflegends.com/cdn/14.2.1/data/en_US/summoner.json\n"
     ]
    }
   ],
   "source": [
    "summoner_spell_cells = []\n",
    "for idx, spell in enumerate(SummonerSpells(region=REGION)):\n",
    "    summoner_spell_cells.append([spell.name, spell.image.url, f'=IMAGE(I{idx + 1})'])\n",
    "\n",
    "wks.clear('H1', 'J')\n",
    "wks.update_values('H1:J', summoner_spell_cells)"
   ]
  },
  {
   "cell_type": "code",
   "execution_count": 6,
   "id": "6660437c-3ca4-438a-9f44-8b38a31cf27e",
   "metadata": {},
   "outputs": [
    {
     "name": "stdout",
     "output_type": "stream",
     "text": [
      "Making call: https://ddragon.leagueoflegends.com/cdn/14.2.1/data/en_US/runesReforged.json\n"
     ]
    }
   ],
   "source": [
    "rune_cells = []\n",
    "rune_paths = []\n",
    "rune_path_names = []\n",
    "for idx, rune in enumerate(Runes(region=REGION)):\n",
    "    if rune.path.name not in rune_path_names:\n",
    "        rune_paths.append(rune.path)\n",
    "        rune_path_names.append(rune.path.name)\n",
    "    rune_cells.append([rune.name, rune.image.url, f'=IMAGE(L{idx + 1})'])\n",
    "for rune_path in rune_paths:\n",
    "    idx += 1\n",
    "    rune_cells.append([rune_path.name, rune_path.image_url, f'=IMAGE(L{idx + 1})'])\n",
    "\n",
    "wks.clear('K1', 'M')\n",
    "wks.update_values('K1:M', rune_cells)"
   ]
  }
 ],
 "metadata": {
  "kernelspec": {
   "display_name": "Python 3 (ipykernel)",
   "language": "python",
   "name": "python3"
  },
  "language_info": {
   "codemirror_mode": {
    "name": "ipython",
    "version": 3
   },
   "file_extension": ".py",
   "mimetype": "text/x-python",
   "name": "python",
   "nbconvert_exporter": "python",
   "pygments_lexer": "ipython3",
   "version": "3.11.6"
  }
 },
 "nbformat": 4,
 "nbformat_minor": 5
}
